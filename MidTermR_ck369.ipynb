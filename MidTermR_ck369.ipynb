{
 "cells": [
  {
   "cell_type": "markdown",
   "id": "35b2582c",
   "metadata": {
    "id": "E5dpj74Hya2q"
   },
   "source": [
    "# DS636 Midterm Exam\n",
    "\n",
    "* This midterm exam has 2.5 hours from 6pm to 8:30pm.\n",
    "* This exam is to mimic the real world project and to test how you solve problems by what you have learnt in this class.\n",
    "* You should have all your code AND output together on one Jupyter notebook.\n",
    "* You have 10 problems in 3 groups. Each problem group contains a dataset. Each of them requires you to write short code and provide the result in output. Code without result will only receive half of the marks at the best. \n",
    "* You should work independently on the problems. Cheating/copying will get zero.\n",
    "* At the end, you should upload ipynb format of your notebook. \n",
    "* Set up your alarm to 5 minutes before the end time so that you have the last 5 mins to upload files. Email is not acceptable. \n",
    "\n",
    "For any canvas issue, please contact the IST Service Desk by calling (973) 596-2900, emailing servicedesk@njit.edu, or visiting servicedesk.njit.edu.\n",
    "\n",
    "\n",
    "## Submission\n",
    "\n",
    "Save your file as ipynb file and upload at the end of the exam before deadline."
   ]
  },
  {
   "cell_type": "markdown",
   "id": "002b6091",
   "metadata": {
    "id": "WgYhh-W3xk4e"
   },
   "source": [
    "## Problem Group 1\n",
    "\n",
    "Use Movies Dataset for this group.\n"
   ]
  },
  {
   "cell_type": "markdown",
   "id": "9a583569",
   "metadata": {
    "id": "kulUs9K7xxB3"
   },
   "source": [
    "### Question 1\n",
    "Load the dataset into a dataframe and determine what data type is used to store the `release_year` feature."
   ]
  },
  {
   "cell_type": "code",
   "execution_count": 6,
   "id": "cb256db0",
   "metadata": {
    "id": "ecSfSVrsxjx5"
   },
   "outputs": [
    {
     "name": "stderr",
     "output_type": "stream",
     "text": [
      "Warning message in scan(file = file, what = what, sep = sep, quote = quote, dec = dec, :\n",
      "\"EOF within quoted string\"\n"
     ]
    },
    {
     "name": "stdout",
     "output_type": "stream",
     "text": [
      "[1] \"integer\"\n"
     ]
    }
   ],
   "source": [
    "# Load the dataset into a dataframe\n",
    "data <- read.csv(\"movies.txt\", quote = \"\\\"\", stringsAsFactors = FALSE)\n",
    "\n",
    "# Check the data type of the release_year feature\n",
    "release_year_type <- class(data$release_year)\n",
    "print(release_year_type)"
   ]
  },
  {
   "cell_type": "markdown",
   "id": "533a59cd",
   "metadata": {
    "id": "ivpHTGpczpyM"
   },
   "source": [
    "### Question 2\n",
    "Filter your dataset so it contains only `TV Shows`. How many of those TV Shows were rated `TV-Y7`?"
   ]
  },
  {
   "cell_type": "code",
   "execution_count": 7,
   "id": "6f50c7fc",
   "metadata": {
    "colab": {
     "base_uri": "https://localhost:8080/",
     "height": 34
    },
    "id": "Zf6QABfXx5Xh",
    "outputId": "7c08d1c6-bf4b-405f-e3aa-a7ce6b65adbe"
   },
   "outputs": [
    {
     "name": "stdout",
     "output_type": "stream",
     "text": [
      "[1] 31\n"
     ]
    }
   ],
   "source": [
    "# Filter the dataset to contain only TV Shows\n",
    "tv_shows <- data[data$type == \"TV Show\", ]\n",
    "\n",
    "# Count how many TV Shows were rated TV-Y7\n",
    "tv_y7_count <- sum(tv_shows$rating == \"TV-Y7\")\n",
    "\n",
    "print(tv_y7_count)"
   ]
  },
  {
   "cell_type": "markdown",
   "id": "9439dd8d",
   "metadata": {
    "id": "-esock-41eGo"
   },
   "source": [
    "### Question 3\n",
    "Further filter your dataset so it only contains TV Shows released between the years 2000 and 2009 inclusive. How many of *those* shows were rated `TV-Y7`?"
   ]
  },
  {
   "cell_type": "code",
   "execution_count": 11,
   "id": "967e7a09",
   "metadata": {
    "colab": {
     "base_uri": "https://localhost:8080/",
     "height": 34
    },
    "id": "cBNHqCgz0WDp",
    "outputId": "87370712-4cf9-4a89-abe2-b4f4d5a903b2"
   },
   "outputs": [
    {
     "name": "stdout",
     "output_type": "stream",
     "text": [
      "[1] 0\n"
     ]
    }
   ],
   "source": [
    "# Filter the dataset to contain only TV Shows released between 2000 and 2009 (inclusive)\n",
    "tv_shows_2000s <- tv_shows[tv_shows$release_year >= 2000 & tv_shows$release_year <= 2009, ]\n",
    "\n",
    "# Count how many TV Shows released between 2000 and 2009 were rated TV-Y7\n",
    "tv_y7_count_2000s <- sum(tv_shows_2000s$rating == \"TV-Y7\")\n",
    "\n",
    "print(tv_y7_count_2000s)\n"
   ]
  },
  {
   "attachments": {
    "image.png": {
     "image/png": "[encoded data removed]"
    }
   },
   "cell_type": "markdown",
   "id": "1bf75c18",
   "metadata": {
    "id": "s9pLfYQx2W8s"
   },
   "source": [
    "### Question 4\n",
    "Create a bar plot showing the relative counts of the ratings of TV-Shows released between the years 2000 and 2009, inclusive, as below.\n",
    "![image.png](attachment:image.png)\n",
    "\n",
    "What is the top-most number on the y-axis scale?"
   ]
  },
  {
   "cell_type": "code",
   "execution_count": 14,
   "id": "35ed930c",
   "metadata": {
    "colab": {
     "base_uri": "https://localhost:8080/",
     "height": 295
    },
    "id": "Akz49cnq1qUI",
    "outputId": "ffec16dc-6be4-424c-e2fa-57a8befe2810"
   },
   "outputs": [
    {
     "name": "stdout",
     "output_type": "stream",
     "text": [
      "[1] 23\n"
     ]
    },
    {
     "data": {
      "image/png": "[encoded data removed]",
      "text/plain": [
       "Plot with title \"Relative Counts of TV Show Ratings (2000-2009)\""
      ]
     },
     "metadata": {
      "image/png": {
       "height": 420,
       "width": 420
      }
     },
     "output_type": "display_data"
    }
   ],
   "source": [
    "# Filter the dataset to contain only TV Shows released between 2000 and 2009 (inclusive)\n",
    "tv_shows_2000s <- tv_shows[tv_shows$release_year >= 2000 & tv_shows$release_year <= 2009, ]\n",
    "\n",
    "# Calculate the counts of each rating category\n",
    "rating_counts <- table(tv_shows_2000s$rating)\n",
    "\n",
    "# Create a bar plot\n",
    "barplot(rating_counts, main = \"Relative Counts of TV Show Ratings (2000-2009)\", xlab = \"Rating\", ylab = \"Count\", col = \"skyblue\", ylim = c(0, max(rating_counts) + 5))\n",
    "\n",
    "# Add text labels for the counts on top of each bar\n",
    "text(barplot(rating_counts, plot = FALSE), rating_counts + 2, labels = rating_counts, pos = 3)\n",
    "\n",
    "# Get the top-most number on the y-axis scale\n",
    "top_y_axis_number <- max(rating_counts) + 5\n",
    "print(top_y_axis_number)\n"
   ]
  },
  {
   "cell_type": "code",
   "execution_count": 61,
   "id": "eb96e970-24e0-4c3b-b86f-a0dfacf71df9",
   "metadata": {},
   "outputs": [
    {
     "name": "stderr",
     "output_type": "stream",
     "text": [
      "Warning message in scan(file = file, what = what, sep = sep, quote = quote, dec = dec, :\n",
      "\"EOF within quoted string\"\n"
     ]
    },
    {
     "data": {
      "image/png": "[encoded data removed]",
      "text/plain": [
       "plot without title"
      ]
     },
     "metadata": {
      "image/png": {
       "height": 420,
       "width": 420
      }
     },
     "output_type": "display_data"
    }
   ],
   "source": [
    "# Load the required library\n",
    "library(ggplot2)\n",
    "\n",
    "# Load the dataset\n",
    "df <- read.csv(\"movies.txt\", stringsAsFactors = FALSE)\n",
    "\n",
    "# Filter the dataset for TV shows released between 2000 and 2009\n",
    "df_filtered <- df[df$type == \"TV Show\" & df$release_year >= 2000 & df$release_year <= 2009, ]\n",
    "\n",
    "# Create the bar plot\n",
    "ggplot(df_filtered, aes(x = rating)) +\n",
    "  geom_bar(fill = \"skyblue\") +\n",
    "  labs(title = \"Relative Counts of TV Show Ratings (2000-2009)\",\n",
    "       x = \"Rating\",\n",
    "       y = \"Count\") +\n",
    "  theme_minimal()\n"
   ]
  },
  {
   "cell_type": "code",
   "execution_count": 13,
   "id": "25b00514-4bc2-45ba-a393-f7e35e5581a3",
   "metadata": {},
   "outputs": [
    {
     "name": "stdout",
     "output_type": "stream",
     "text": [
      "[1] 23\n"
     ]
    }
   ],
   "source": [
    "# Get the top-most number on the y-axis scale\n",
    "top_y_axis_number <- max(rating_counts) + 5\n",
    "print(top_y_axis_number)\n"
   ]
  },
  {
   "cell_type": "markdown",
   "id": "a6ce9265",
   "metadata": {
    "id": "cB4zmoJm3XDj"
   },
   "source": [
    "## Problem Group 2\n",
    "\n",
    "Use Cereal Dataset for this group\n"
   ]
  },
  {
   "cell_type": "markdown",
   "id": "fbf031c0",
   "metadata": {
    "id": "W3del4PC9NJ-"
   },
   "source": [
    "### Question 5\n",
    "Load into R dataframe. In order to comply with new government regulations, all cereals must now come with a \"Healthiness\" rating. This rating is calculated based on this formula:\n",
    "\n",
    "    healthiness = (protein + fiber) / sugar\n",
    "\n",
    "Create a new `healthiness` column populated with values based on the above formula.\n",
    "\n",
    "Then, determine the mean healthiness value for only General Mills cereals (`mfr` = \"G\"), rounded to two decimal places."
   ]
  },
  {
   "cell_type": "code",
   "execution_count": 15,
   "id": "47c8c739",
   "metadata": {
    "colab": {
     "base_uri": "https://localhost:8080/",
     "height": 34
    },
    "id": "TqFx9yvV6LDX",
    "outputId": "b7434c1b-dee1-48b6-e1e1-6f8936c57b72"
   },
   "outputs": [
    {
     "name": "stdout",
     "output_type": "stream",
     "text": [
      "[1] 0.9\n"
     ]
    }
   ],
   "source": [
    "# Load the dataset into an R dataframe\n",
    "cereal_df <- read.csv(\"cereal.txt\", header = TRUE, stringsAsFactors = FALSE)\n",
    "\n",
    "# Calculate healthiness based on the provided formula\n",
    "cereal_df$healthiness <- (cereal_df$protein + cereal_df$fiber) / cereal_df$sugar\n",
    "\n",
    "# Filter dataframe to include only General Mills cereals (mfr = \"G\")\n",
    "general_mills_cereals <- cereal_df[cereal_df$mfr == \"G\", ]\n",
    "\n",
    "# Calculate the mean healthiness value for General Mills cereals\n",
    "mean_healthiness <- mean(general_mills_cereals$healthiness, na.rm = TRUE)\n",
    "\n",
    "# Round the mean healthiness value to two decimal places\n",
    "mean_healthiness_rounded <- round(mean_healthiness, 2)\n",
    "\n",
    "print(mean_healthiness_rounded)\n"
   ]
  },
  {
   "cell_type": "markdown",
   "id": "d9082bcd",
   "metadata": {
    "id": "BE_TdsHa3sMj"
   },
   "source": [
    "### Question 6\n",
    "Import the dataset into a <font color=red>Spark</font> dataframe using Sparkly, determine the average amount of `healthiness` in cereal brands manufactured by Kelloggs. (`mfr` code \"K\")"
   ]
  },
  {
   "cell_type": "code",
   "execution_count": 18,
   "id": "a32caf77",
   "metadata": {
    "colab": {
     "base_uri": "https://localhost:8080/",
     "height": 366
    },
    "id": "fBXFGnfP2tfV",
    "outputId": "f4ad365f-ca50-4f64-c292-a44fb6ebb64c"
   },
   "outputs": [
    {
     "name": "stderr",
     "output_type": "stream",
     "text": [
      "Re-using existing Spark connection to local\n",
      "\n"
     ]
    },
    {
     "data": {
      "text/plain": [
       "\u001b[90m# Source: spark<cereal_table> [?? x 1]\u001b[39m\n",
       "   V1                                                                           \n",
       "   \u001b[3m\u001b[90m<chr>\u001b[39m\u001b[23m                                                                        \n",
       "\u001b[90m 1\u001b[39m name,mfr,type,calories,protein,fat,sodium,fiber,carbo,sugars,potass,vitamins…\n",
       "\u001b[90m 2\u001b[39m 100% Bran,N,C,70,4,1,130,10,5,6,280,25,3,1,0.33,68.402973                    \n",
       "\u001b[90m 3\u001b[39m 100% Natural Bran,Q,C,120,3,5,15,2,8,8,135,0,3,1,1,33.983679                 \n",
       "\u001b[90m 4\u001b[39m All-Bran,K,C,70,4,1,260,9,7,5,320,25,3,1,0.33,59.425505                      \n",
       "\u001b[90m 5\u001b[39m All-Bran with Extra Fiber,K,C,50,4,0,140,14,8,0,330,25,3,1,0.5,93.704912     \n",
       "\u001b[90m 6\u001b[39m Almond Delight,R,C,110,2,2,200,1,14,8,-1,25,3,1,0.75,34.384843               \n",
       "\u001b[90m 7\u001b[39m Apple Cinnamon Cheerios,G,C,110,2,2,180,1.5,10.5,10,70,25,1,1,0.75,29.509541 \n",
       "\u001b[90m 8\u001b[39m Apple Jacks,K,C,110,2,0,125,1,11,14,30,25,2,1,1,33.174094                    \n",
       "\u001b[90m 9\u001b[39m Basic 4,G,C,130,3,2,210,2,18,8,100,25,3,1.33,0.75,37.038562                  \n",
       "\u001b[90m10\u001b[39m Bran Chex,R,C,90,2,1,200,4,15,6,125,25,1,1,0.67,49.120253                    \n",
       "\u001b[90m# ℹ more rows\u001b[39m"
      ]
     },
     "metadata": {},
     "output_type": "display_data"
    },
    {
     "ename": "ERROR",
     "evalue": "Error: 'spark_sql' is not an exported object from 'namespace:sparklyr'\n",
     "output_type": "error",
     "traceback": [
      "Error: 'spark_sql' is not an exported object from 'namespace:sparklyr'\nTraceback:\n"
     ]
    }
   ],
   "source": [
    "# Load the required libraries\n",
    "library(sparklyr)\n",
    "\n",
    "# Connect to a Spark cluster\n",
    "sc <- spark_connect(master = \"local\")\n",
    "\n",
    "# Load the dataset into a Spark dataframe\n",
    "cereal_spark <- spark_read_csv(sc, name = \"cereal_spark\", path = \"cereal.txt\", delimiter = \"\\t\", infer_schema = \"true\", header = \"true\")\n",
    "\n",
    "# Register the Spark dataframe as a temporary table\n",
    "sparklyr::sdf_register(cereal_spark, \"cereal_table\")\n",
    "\n",
    "# Calculate the average amount of healthiness for cereal brands manufactured by Kelloggs (mfr code \"K\") using Spark SQL\n",
    "average_healthiness_k <- sparklyr::spark_sql(sc, \"SELECT AVG((protein + fiber) / sugar) AS average_healthiness FROM cereal_table WHERE mfr = 'K'\")\n",
    "\n",
    "# Collect the result\n",
    "result <- collect(average_healthiness_k)\n",
    "\n",
    "# Print the result\n",
    "print(result)\n"
   ]
  },
  {
   "cell_type": "code",
   "execution_count": 29,
   "id": "8a5f7807",
   "metadata": {
    "colab": {
     "base_uri": "https://localhost:8080/",
     "height": 34
    },
    "id": "Vn6nmEjXh8s2",
    "outputId": "d81fa50c-f694-4cd0-c521-5943ca085b68"
   },
   "outputs": [
    {
     "name": "stderr",
     "output_type": "stream",
     "text": [
      "Re-using existing Spark connection to local\n",
      "\n"
     ]
    },
    {
     "name": "stdout",
     "output_type": "stream",
     "text": [
      "[1] 0.903658\n"
     ]
    }
   ],
   "source": [
    "# Load the necessary library\n",
    "library(sparklyr)\n",
    "\n",
    "# Initialize a Spark connection\n",
    "sc <- spark_connect(master = \"local\")\n",
    "\n",
    "# Import the dataset into a Spark dataframe\n",
    "cereal_spark <- spark_read_csv(sc, \"cereal\", \"cereal.txt\", header = TRUE)\n",
    "\n",
    "# Calculate the average amount of healthiness for Kellogg's cereals\n",
    "kelloggs_healthiness <- cereal_spark %>%\n",
    "  filter(`mfr` == \"K\") %>%\n",
    "  summarize(mean_healthiness = mean((`protein` + `fiber`) / `sugars`, na.rm = TRUE)) %>%\n",
    "  collect()\n",
    "\n",
    "# Extract the average healthiness value\n",
    "average_healthiness_kelloggs <- kelloggs_healthiness$mean_healthiness\n",
    "\n",
    "# Print the average healthiness value for Kellogg's cereals\n",
    "print(average_healthiness_kelloggs)\n"
   ]
  },
  {
   "cell_type": "markdown",
   "id": "ddb20a97",
   "metadata": {
    "id": "_tAtBuST4vFq"
   },
   "source": [
    "### Question 7\n",
    "\n",
    "\n",
    "Implement a user-defined R function on <font color=red>Spark</font> to compute the ratio (protein + fiber) / (fat + sodium + carbo + sugars)\n",
    "\n",
    "You should use `spark_apply`"
   ]
  },
  {
   "cell_type": "code",
   "execution_count": 39,
   "id": "5ea70a45",
   "metadata": {
    "colab": {
     "base_uri": "https://localhost:8080/",
     "height": 34
    },
    "id": "PLIl-nwZ4PT9",
    "outputId": "f851942c-49df-4ee6-8a8e-c2ea48d78ec6"
   },
   "outputs": [
    {
     "name": "stderr",
     "output_type": "stream",
     "text": [
      "Re-using existing Spark connection to local\n",
      "\n"
     ]
    },
    {
     "name": "stdout",
     "output_type": "stream",
     "text": [
      "\u001b[90m# Source: spark<?> [?? x 1]\u001b[39m\n",
      "   double\n",
      "    \u001b[3m\u001b[90m<dbl>\u001b[39m\u001b[23m\n",
      "\u001b[90m 1\u001b[39m 0.098\u001b[4m6\u001b[24m\n",
      "\u001b[90m 2\u001b[39m 0.139 \n",
      "\u001b[90m 3\u001b[39m 0.047\u001b[4m6\u001b[24m\n",
      "\u001b[90m 4\u001b[39m 0.122 \n",
      "\u001b[90m 5\u001b[39m 0.013\u001b[4m4\u001b[24m\n",
      "\u001b[90m 6\u001b[39m 0.017\u001b[4m3\u001b[24m\n",
      "\u001b[90m 7\u001b[39m 0.02  \n",
      "\u001b[90m 8\u001b[39m 0.021\u001b[4m0\u001b[24m\n",
      "\u001b[90m 9\u001b[39m 0.027\u001b[4m0\u001b[24m\n",
      "\u001b[90m10\u001b[39m 0.035\u001b[4m1\u001b[24m\n",
      "\u001b[90m# ℹ more rows\u001b[39m\n"
     ]
    }
   ],
   "source": [
    "# Load necessary libraries\n",
    "library(sparklyr)\n",
    "\n",
    "# Connect to Spark\n",
    "sc <- spark_connect(master = \"local\")\n",
    "\n",
    "# Load the data from cereal.txt into a Spark DataFrame\n",
    "df <- spark_read_csv(sc, \"cereal\", \"cereal.txt\")\n",
    "\n",
    "# Define the user-defined R function to compute the ratio\n",
    "compute_ratio <- function(data) {\n",
    "  with(data, {\n",
    "    ratio <- (protein + fiber) / (fat + sodium + carbo + sugars)\n",
    "    return(ratio)\n",
    "  })\n",
    "}\n",
    "\n",
    "# Apply the function to each row of the DataFrame using spark_apply\n",
    "result_df <- df %>%\n",
    "  spark_apply(compute_ratio, c(\"double\"))\n",
    "\n",
    "# Show the resulting DataFrame\n",
    "show(result_df)\n",
    "\n",
    "# Disconnect from Spark\n",
    "spark_disconnect(sc)\n"
   ]
  },
  {
   "cell_type": "markdown",
   "id": "a3666347",
   "metadata": {
    "id": "W6nZYMTM6pbi"
   },
   "source": [
    "### Question 8\n",
    "\n",
    "Repartition your data into 2 partitions. Use `spark_apply` to compute the average `rating` for cereal brands manufactured by Kelloggs. (`mfr` code \"K\"). Your result should have a single value."
   ]
  },
  {
   "cell_type": "code",
   "execution_count": 48,
   "id": "0d083c19-2665-4c30-8ab9-9fe0765f653c",
   "metadata": {},
   "outputs": [
    {
     "name": "stderr",
     "output_type": "stream",
     "text": [
      "Warning message in sprintf(versions$pattern, version$spark, version$hadoop):\n",
      "\"2 arguments not used by format 'spark-3.5.0-bin-hadoop3'\"\n"
     ]
    },
    {
     "name": "stdout",
     "output_type": "stream",
     "text": [
      "[1] \"Average rating for Kelloggs brands: 88.3433940378788\"\n"
     ]
    }
   ],
   "source": [
    "# Load necessary libraries\n",
    "library(sparklyr)\n",
    "\n",
    "# Re-using existing Spark connection to local\n",
    "sc <- spark_connect(master = \"local\")\n",
    "\n",
    "# Load the data from cereal.txt into a Spark DataFrame\n",
    "df <- spark_read_csv(sc, \"cereal\", \"cereal.txt\")\n",
    "\n",
    "# Repartition the DataFrame into 2 partitions\n",
    "df <- sdf_repartition(df, 2)\n",
    "\n",
    "# Filter the DataFrame to include only cereal brands manufactured by Kelloggs (mfr code \"K\")\n",
    "kelloggs_df <- df %>%\n",
    "  filter(mfr == \"K\")\n",
    "\n",
    "# Define the user-defined R function to compute the average rating\n",
    "compute_average_rating <- function(data) {\n",
    "  with(data, {\n",
    "    # Aggregate the ratings into a single vector\n",
    "    ratings <- as.numeric(rating)\n",
    "    # Compute the average rating\n",
    "    average_rating <- mean(ratings)\n",
    "    return(average_rating)\n",
    "  })\n",
    "}\n",
    "\n",
    "# Use spark_apply to compute the average rating for Kelloggs brands\n",
    "average_rating_kelloggs <- kelloggs_df %>%\n",
    "  spark_apply(compute_average_rating, c(\"double\")) %>%\n",
    "  collect()\n",
    "\n",
    "# Compute the average of the two values\n",
    "average_rating_kelloggs <- sum(average_rating_kelloggs) / length(average_rating_kelloggs)\n",
    "\n",
    "# Display the resulting average rating for Kelloggs brands\n",
    "print(paste(\"Average rating for Kelloggs brands:\", average_rating_kelloggs))\n",
    "\n",
    "# Disconnect from Spark\n",
    "spark_disconnect(sc)\n"
   ]
  },
  {
   "cell_type": "markdown",
   "id": "8e770bdd",
   "metadata": {
    "id": "AcuUNAxC-g7c"
   },
   "source": [
    "## Problem Group 3\n",
    "\n",
    "Use Titanic Dataset for this group"
   ]
  },
  {
   "cell_type": "markdown",
   "id": "60408027",
   "metadata": {
    "id": "POOuuXfYAJQK"
   },
   "source": [
    "### Question 9\n",
    "\n",
    "Load the dataset into a dataframe, create a new column called `NameGroup` that contains the first letter of the passenger's surname in lower case.\n",
    "\n",
    "Note that in the dataset, passenger's names are provided in the `Name` column and are listed as:\n",
    "\n",
    "    Surname, Given names\n",
    "\n",
    "For example, if a passenger's `Name` is `Braund, Mr. Owen Harris`, the `NameGroup` column should contain the value `b`.\n",
    "\n",
    "Then count how many passengers have a `NameGroup` value of `k`."
   ]
  },
  {
   "cell_type": "code",
   "execution_count": 56,
   "id": "2adb6c4a",
   "metadata": {
    "colab": {
     "base_uri": "https://localhost:8080/",
     "height": 484
    },
    "id": "T80gU65-ASFa",
    "outputId": "9ea1660f-dbe9-4ac1-b299-a98df0f591db"
   },
   "outputs": [
    {
     "name": "stdout",
     "output_type": "stream",
     "text": [
      "[1] 28\n"
     ]
    }
   ],
   "source": [
    "# Load the required library\n",
    "library(dplyr)\n",
    "\n",
    "# Load the dataset\n",
    "df <- read.csv(\"titanic.txt\", stringsAsFactors = FALSE)\n",
    "\n",
    "# Function to extract the first letter of the surname\n",
    "get_first_letter <- function(name) {\n",
    "  return(tolower(substr(name, 1, 1)))\n",
    "}\n",
    "\n",
    "# Apply the function to create the NameGroup column\n",
    "df <- df %>% \n",
    "  mutate(NameGroup = get_first_letter(Name))\n",
    "\n",
    "# Count the number of passengers with NameGroup value of \"k\"\n",
    "count_k <- sum(df$NameGroup == \"k\")\n",
    "\n",
    "# Display the count\n",
    "print(count_k)"
   ]
  },
  {
   "cell_type": "markdown",
   "id": "8ed26723",
   "metadata": {
    "id": "6iZtc5-zBZQG"
   },
   "source": [
    "### Question 10\n",
    "Create a percent stacked barplot showing the percentage of passenger `Sex` for the port they `Embarked` from."
   ]
  },
  {
   "cell_type": "code",
   "execution_count": 58,
   "id": "e179e476",
   "metadata": {
    "colab": {
     "base_uri": "https://localhost:8080/",
     "height": 295
    },
    "id": "9D6TzGQjAZIw",
    "outputId": "c6966d55-14af-4906-99d3-a4365435da2c"
   },
   "outputs": [
    {
     "name": "stderr",
     "output_type": "stream",
     "text": [
      "\u001b[1m\u001b[22m`summarise()` has grouped output by 'Embarked'. You can override using the `.groups` argument.\n"
     ]
    },
    {
     "data": {
      "image/png": "[encoded data removed]",
      "text/plain": [
       "plot without title"
      ]
     },
     "metadata": {
      "image/png": {
       "height": 420,
       "width": 420
      }
     },
     "output_type": "display_data"
    }
   ],
   "source": [
    "# Load the required libraries\n",
    "library(ggplot2)\n",
    "\n",
    "# Create the data for the plot\n",
    "plot_data <- df %>% \n",
    "  group_by(Embarked, Sex) %>% \n",
    "  summarise(count = n()) %>%\n",
    "  mutate(percentage = count / sum(count) * 100)\n",
    "\n",
    "# Plot the percent stacked barplot\n",
    "ggplot(plot_data, aes(x = Embarked, y = percentage, fill = Sex)) +\n",
    "  geom_bar(stat = \"identity\", position = \"fill\") +\n",
    "  labs(title = \"Percentage of Passenger Sex by Embarked Port\",\n",
    "       x = \"Embarked Port\",\n",
    "       y = \"Percentage\",\n",
    "       fill = \"Sex\") +\n",
    "  scale_y_continuous(labels = scales::percent_format()) +\n",
    "  theme_minimal()"
   ]
  },
  {
   "cell_type": "code",
   "execution_count": null,
   "id": "4a47e08b-ea32-49ce-9fa4-a09b814600e2",
   "metadata": {},
   "outputs": [],
   "source": []
  }
 ],
 "metadata": {
  "kernelspec": {
   "display_name": "R",
   "language": "R",
   "name": "ir"
  },
  "language_info": {
   "codemirror_mode": "r",
   "file_extension": ".r",
   "mimetype": "text/x-r-source",
   "name": "R",
   "pygments_lexer": "r",
   "version": "4.3.2"
  }
 },
 "nbformat": 4,
 "nbformat_minor": 5
}
