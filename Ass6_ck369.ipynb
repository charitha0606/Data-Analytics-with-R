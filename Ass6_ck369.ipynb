{
 "cells": [
  {
   "cell_type": "markdown",
   "id": "2c83598b-7c40-454c-9e12-a6eb10a6411e",
   "metadata": {},
   "source": [
    "### Question 1\n",
    "Six Sigma (6σ) is a set of techniques and tools for process improvement. It was introduced by\n",
    "American engineer Bill Smith while working at Motorola in 1980.Jack Welch made it central to his\n",
    "business strategy at General Electric in 1995. A six sigma process is one in which 99.99966% of\n",
    "all opportunities to produce some feature of a part are statistically expected to be free of\n",
    "defects.\n",
    "1. Please write R code to verify the probabilities within σ, 2σ and 3σ as shown in the above graph\n",
    "2. Write R code to find out, within how many σ, the probability is 99.99966%. Is it really 6σ?\n"
   ]
  },
  {
   "cell_type": "code",
   "execution_count": 33,
   "id": "9a65f87a-188f-426b-9e28-c3463d6ba4ec",
   "metadata": {},
   "outputs": [
    {
     "name": "stdout",
     "output_type": "stream",
     "text": [
      "Probability within 1σ: 0.6827 \n",
      "Probability within 2σ: 0.9545 \n",
      "Probability within 3σ: 0.9973 \n"
     ]
    }
   ],
   "source": [
    "# Calculating the cumulative distribution function for 1, 2, and 3 standard deviations\n",
    "prob_within_1_sigma <- pnorm(1, mean = 0, sd = 1) - pnorm(-1, mean = 0, sd = 1)\n",
    "prob_within_2_sigma <- pnorm(2, mean = 0, sd = 1) - pnorm(-2, mean = 0, sd = 1)\n",
    "prob_within_3_sigma <- pnorm(3, mean = 0, sd = 1) - pnorm(-3, mean = 0, sd = 1)\n",
    "\n",
    "# Printing the probabilities\n",
    "cat(\"Probability within 1σ:\", round(prob_within_1_sigma, 4), \"\\n\")\n",
    "cat(\"Probability within 2σ:\", round(prob_within_2_sigma, 4), \"\\n\")\n",
    "cat(\"Probability within 3σ:\", round(prob_within_3_sigma, 4), \"\\n\")"
   ]
  },
  {
   "cell_type": "code",
   "execution_count": 34,
   "id": "2dbd2d9e-d925-495f-bc25-d2d3e71b3902",
   "metadata": {},
   "outputs": [
    {
     "name": "stdout",
     "output_type": "stream",
     "text": [
      "Z-value for 99.99966% probability: 4.2297 \n",
      "Is it really 6σ: FALSE \n"
     ]
    }
   ],
   "source": [
    "# Determining the z-value for the given probability\n",
    "prob <- 0.0000234 / 2\n",
    "z_value <- qnorm(1 - prob)\n",
    "\n",
    "# Printing the z-value\n",
    "cat(\"Z-value for 99.99966% probability:\", round(z_value, 4), \"\\n\")\n",
    "\n",
    "# Verifying if it is really 6σ\n",
    "is_six_sigma <- abs(z_value) > 5.999 && abs(z_value) < 6.001\n",
    "cat(\"Is it really 6σ:\", is_six_sigma, \"\\n\")"
   ]
  },
  {
   "cell_type": "markdown",
   "id": "eabe3a7e-d8f6-49ad-aaef-733f253c4595",
   "metadata": {},
   "source": [
    "### Question 2\n",
    "You are spamming resumes to apply jobs. Each resume you send out has 1% chance of getting a\n",
    "job offer. You have sent 100 resumes. What's your chance to get at least one job offer?\n",
    "1. Please solve the problem by math. Use R mathematical expression to get the result.\n",
    "2. Analytic solution. Use R’s probability functions to solve the problem.\n",
    "3. Answer by simulation. Use sampling function to simulate the process and estimate the answer.\n",
    "4. How many resumes in total do you have to spam so that you will have 90% chance to get at\n",
    "least one job offer?"
   ]
  },
  {
   "cell_type": "code",
   "execution_count": 35,
   "id": "36880087-705b-42d8-9d77-487f8e7747d5",
   "metadata": {},
   "outputs": [
    {
     "name": "stdout",
     "output_type": "stream",
     "text": [
      "Probability of getting at least one job offer: 0.634 \n"
     ]
    }
   ],
   "source": [
    "# Calculate the probability of not getting a job offer from one resume\n",
    "prob_no_offer_single <- 0.99\n",
    "\n",
    "# Calculate the probability of not getting any offers from 100 resumes\n",
    "prob_no_offers_100 <- prob_no_offer_single ^ 100\n",
    "\n",
    "# Calculate the probability of getting at least one offer\n",
    "prob_at_least_one_offer <- 1 - prob_no_offers_100\n",
    "\n",
    "# Printing the probability of getting at least one offer\n",
    "cat(\"Probability of getting at least one job offer:\", round(prob_at_least_one_offer, 4), \"\\n\")"
   ]
  },
  {
   "cell_type": "code",
   "execution_count": 36,
   "id": "9d6105da-0f17-4745-a42d-15d26eb21b3c",
   "metadata": {},
   "outputs": [
    {
     "name": "stdout",
     "output_type": "stream",
     "text": [
      "[1] 0.6339677\n"
     ]
    }
   ],
   "source": [
    "# Probability of success for each trial\n",
    "p <- 0.01\n",
    "\n",
    "# Number of trials\n",
    "n <- 100\n",
    "\n",
    "# Probability of getting at least one success\n",
    "prob_at_least_one_offer_binom <- 1 - pbinom(0, size = n, prob = p)\n",
    "\n",
    "print(prob_at_least_one_offer_binom)"
   ]
  },
  {
   "cell_type": "code",
   "execution_count": 37,
   "id": "feb4548f-3258-4caf-b55d-471fa3d50c16",
   "metadata": {},
   "outputs": [
    {
     "data": {
      "text/html": [
       "0.6371"
      ],
      "text/latex": [
       "0.6371"
      ],
      "text/markdown": [
       "0.6371"
      ],
      "text/plain": [
       "[1] 0.6371"
      ]
     },
     "metadata": {},
     "output_type": "display_data"
    }
   ],
   "source": [
    "# Setting the seed for reproducibility\n",
    "set.seed(123)\n",
    "\n",
    "# Defining the number of resumes\n",
    "n_resumes <- 100\n",
    "\n",
    "# Defining the number of simulations\n",
    "n_simulations <- 10000\n",
    "\n",
    "# Simulating the process of sending resumes and receiving job offers\n",
    "offers_per_sim <- rbinom(n_simulations, size = n_resumes, prob = 0.01)\n",
    "\n",
    "# Calculating the probability of getting at least one job offer\n",
    "prob_simulation <- sum(offers_per_sim >= 1) / n_simulations\n",
    "\n",
    "# Printing the result\n",
    "prob_simulation"
   ]
  },
  {
   "cell_type": "code",
   "execution_count": 38,
   "id": "014fe665-6167-4d1c-a7b6-267c95e79cc3",
   "metadata": {},
   "outputs": [
    {
     "name": "stdout",
     "output_type": "stream",
     "text": [
      "To have a 90% chance of getting at least one job offer, you need to submit: 230 resumes.\n"
     ]
    }
   ],
   "source": [
    "# Calculate the number of resumes needed to have a 90% chance of getting at least one job offer\n",
    "\n",
    "# Set the desired probability of getting at least one job offer\n",
    "desired_prob <- 0.9\n",
    "\n",
    "# Calculate the probability of getting no job offers\n",
    "prob_no_offers <- 0.01\n",
    "\n",
    "# Solve for the number of resumes\n",
    "n <- log(1 - desired_prob) / log(1 - prob_no_offers)\n",
    "\n",
    "# Round up to the nearest integer\n",
    "n_resumes <- ceiling(n)\n",
    "\n",
    "# Print the result\n",
    "cat(\"To have a 90% chance of getting at least one job offer, you need to submit:\", n_resumes, \"resumes.\\n\")"
   ]
  },
  {
   "cell_type": "markdown",
   "id": "37664b93-8cd1-43ae-b810-63f888bdf8a7",
   "metadata": {},
   "source": [
    "### Question 3\n",
    "Half of the population supports the president (i.e., p=0.5). For a random sample of size 1000, what\n",
    "is the probability of having ≥600 in support of the president?\n",
    "1. Use binomial distribution\n",
    "2. Use normal distribution as approximation."
   ]
  },
  {
   "cell_type": "code",
   "execution_count": 39,
   "id": "f37257c8-74b3-4d7c-abff-f5bfe3c64d84",
   "metadata": {},
   "outputs": [
    {
     "data": {
      "text/html": [
       "1.36423206065217e-10"
      ],
      "text/latex": [
       "1.36423206065217e-10"
      ],
      "text/markdown": [
       "1.36423206065217e-10"
      ],
      "text/plain": [
       "[1] 1.364232e-10"
      ]
     },
     "metadata": {},
     "output_type": "display_data"
    }
   ],
   "source": [
    "# Using binomial distribution to calculate the probability of having ≥600 out of 1000 people in support of the president\n",
    "\n",
    "# Set the parameters of the pbinom function\n",
    "p_binom <- 1 - pbinom(599, size = 1000, prob = 0.5)\n",
    "# Print the result\n",
    "p_binom"
   ]
  },
  {
   "cell_type": "code",
   "execution_count": 40,
   "id": "3fafcac4-abb4-43d4-96e2-022c4ea733df",
   "metadata": {},
   "outputs": [
    {
     "name": "stdout",
     "output_type": "stream",
     "text": [
      "Probability of having ≥600 out of 1000 people in support of the president:  1.908786e-10"
     ]
    }
   ],
   "source": [
    "# Define the mean and standard deviation\n",
    "mn <- 1000*0.5\n",
    "sd <- sqrt(1000*0.5*0.5)\n",
    "\n",
    "# Calculate the probability\n",
    "p_normal <- 1-pnorm(599,mn,sd)\n",
    "\n",
    "# Print the result\n",
    "cat(\"Probability of having ≥600 out of 1000 people in support of the president: \", p_normal)"
   ]
  }
 ],
 "metadata": {
  "kernelspec": {
   "display_name": "R",
   "language": "R",
   "name": "ir"
  },
  "language_info": {
   "codemirror_mode": "r",
   "file_extension": ".r",
   "mimetype": "text/x-r-source",
   "name": "R",
   "pygments_lexer": "r",
   "version": "4.3.2"
  }
 },
 "nbformat": 4,
 "nbformat_minor": 5
}
