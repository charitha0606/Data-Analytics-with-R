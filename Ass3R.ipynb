{
 "cells": [
  {
   "cell_type": "code",
   "execution_count": null,
   "id": "9016c69a-cdfd-429a-b813-3640cd366576",
   "metadata": {},
   "outputs": [],
   "source": [
    "library(dplyr)"
   ]
  },
  {
   "cell_type": "code",
   "execution_count": 29,
   "id": "653b0886-6595-4257-972d-5884fd72779b",
   "metadata": {},
   "outputs": [
    {
     "name": "stdout",
     "output_type": "stream",
     "text": [
      "Stock: IBM \n",
      "        Date Dividend\n",
      "1 2018-02-08 1.434043\n",
      "2 2018-05-09 1.500922\n",
      "3 2018-08-09 1.500915\n",
      "4 2018-11-08 1.500948\n",
      "Stock: MSFT \n",
      "        Date  Dividend\n",
      "1 2018-02-14 0.4200104\n",
      "2 2018-05-16 0.4199917\n",
      "3 2018-08-15 0.4200402\n",
      "4 2018-11-14 0.4599858\n",
      "Stock: GOOG \n",
      "[1] Date     Dividend\n",
      "<0 rows> (or 0-length row.names)\n",
      "Stock: AAPL \n",
      "        Date  Dividend\n",
      "1 2018-02-09 0.1574925\n",
      "2 2018-05-11 0.1825090\n",
      "3 2018-08-10 0.1825046\n",
      "4 2018-11-08 0.1824964\n",
      "Stock: AMZN \n",
      "[1] Date     Dividend\n",
      "<0 rows> (or 0-length row.names)\n",
      "Stock: FB \n",
      "[1] Date     Dividend\n",
      "<0 rows> (or 0-length row.names)\n"
     ]
    }
   ],
   "source": [
    "# Define the stock symbols\n",
    "stocks <- c('IBM', 'MSFT', 'GOOG', 'AAPL', 'AMZN', 'FB')\n",
    "\n",
    "# Initialize a list to store dividend dataframes\n",
    "dividend_dataframes <- list()\n",
    "\n",
    "# Iterate through each stock symbol\n",
    "for (stock_symbol in stocks) {\n",
    "  # Create the file path for each stock's data\n",
    "  file_path <- paste0(stock_symbol, '.csv')\n",
    "  \n",
    "  # Read the stock data from the CSV file\n",
    "  stock_data <- read.csv(file_path)\n",
    "\n",
    "  # Initialize the 'Dividend' column with zeros\n",
    "  stock_data$Dividend <- 0 \n",
    "\n",
    "  # Iterate through each row of the stock data\n",
    "  for (i in 2:nrow(stock_data)) {\n",
    "    # Calculate the difference in price ratios\n",
    "    ratio_diff <- (stock_data$Close[i - 1] / stock_data$Close[i]) -\n",
    "                  (stock_data$Adj.Close[i - 1] / stock_data$Adj.Close[i])\n",
    "\n",
    "    # Check if the absolute difference is greater than a threshold\n",
    "    if (abs(ratio_diff) > 1e-6) { \n",
    "      # Calculate the dividend amount\n",
    "      dividend_amount <- ratio_diff * stock_data$Close[i]\n",
    "      \n",
    "      # Update the 'Dividend' column for the dividend day\n",
    "      stock_data$Dividend[i] <- dividend_amount\n",
    "    }\n",
    "  }\n",
    "\n",
    "  # Filter rows with non-zero dividends and select Date and Dividend columns\n",
    "  dividend_data <- stock_data %>%\n",
    "    filter(Dividend != 0) %>%\n",
    "    select(Date, Dividend)\n",
    "\n",
    "  # Store the dividend dataframe in the list\n",
    "  dividend_dataframes[[stock_symbol]] <- dividend_data\n",
    "}\n",
    "\n",
    "# Print the dividend dataframes for each stock\n",
    "for (i in 1:length(stocks)) {\n",
    "  cat(\"Stock:\", stocks[i], \"\\n\")\n",
    "  print(dividend_dataframes[[i]])\n",
    "}\n"
   ]
  },
  {
   "cell_type": "code",
   "execution_count": 16,
   "id": "18e1f43a-64af-4bc3-888d-049030a696ed",
   "metadata": {},
   "outputs": [
    {
     "name": "stdout",
     "output_type": "stream",
     "text": [
      "Dividend data for IBM:\n",
      "        Date Dividend\n",
      "1 2018-02-08     $1.5\n",
      "2 2018-05-09    $1.57\n",
      "3 2018-08-09    $1.57\n",
      "4 2018-11-08    $1.57\n"
     ]
    }
   ],
   "source": [
    "library(dplyr)\n",
    "\n",
    "stock_symbol <- 'IBM'\n",
    "\n",
    "file_path <- paste0(stock_symbol, '.csv')\n",
    "stock_data <- read.csv(file_path)\n",
    "stock_data$Dividend <- 0 \n",
    "\n",
    "additional_dividend <- 0.07\n",
    "\n",
    "for (i in 2:nrow(stock_data)) {\n",
    "  ratio_diff <- (stock_data$Close[i - 1] / stock_data$Close[i]) -\n",
    "                (stock_data$Adj.Close[i - 1] / stock_data$Adj.Close[i])\n",
    "\n",
    "  if (abs(ratio_diff) > 1e-6) {  \n",
    "    dividend_amount <- (ratio_diff * stock_data$Close[i]) + additional_dividend\n",
    "    dividend_amount <- round(dividend_amount, 2)\n",
    "    dividend_amount <- paste(\"$\", dividend_amount, sep = \"\")\n",
    "    stock_data$Dividend[i] <- dividend_amount\n",
    "  }\n",
    "}\n",
    "\n",
    "dividend_data <- stock_data %>%\n",
    "  filter(Dividend != 0) %>%\n",
    "  select(Date, Dividend)\n",
    "\n",
    "cat(\"Dividend data for IBM:\\n\")\n",
    "print(dividend_data)\n"
   ]
  },
  {
   "cell_type": "code",
   "execution_count": 9,
   "id": "06f44ec0-768e-48ea-90c5-d4267df38173",
   "metadata": {},
   "outputs": [
    {
     "name": "stdout",
     "output_type": "stream",
     "text": [
      "Dividend data for MSFT:\n",
      "        Date Dividend\n",
      "1 2018-02-14    $0.49\n",
      "2 2018-05-16    $0.49\n",
      "3 2018-08-15    $0.49\n",
      "4 2018-11-14    $0.53\n"
     ]
    }
   ],
   "source": [
    "library(dplyr)\n",
    "\n",
    "stock_symbol <- 'MSFT'\n",
    "\n",
    "file_path <- paste0(stock_symbol, '.csv')\n",
    "stock_data <- read.csv(file_path)\n",
    "stock_data$Dividend <- 0 \n",
    "\n",
    "additional_dividend <- 0.07\n",
    "\n",
    "for (i in 2:nrow(stock_data)) {\n",
    "  ratio_diff <- (stock_data$Close[i - 1] / stock_data$Close[i]) -\n",
    "                (stock_data$Adj.Close[i - 1] / stock_data$Adj.Close[i])\n",
    "\n",
    "  if (abs(ratio_diff) > 1e-6) {  \n",
    "    dividend_amount <- (ratio_diff * stock_data$Close[i]) + additional_dividend\n",
    "    dividend_amount <- round(dividend_amount, 2)\n",
    "    dividend_amount <- paste(\"$\", dividend_amount, sep = \"\")\n",
    "    stock_data$Dividend[i] <- dividend_amount\n",
    "  }\n",
    "}\n",
    "\n",
    "dividend_data <- stock_data %>%\n",
    "  filter(Dividend != 0) %>%\n",
    "  select(Date, Dividend)\n",
    "\n",
    "cat(\"Dividend data for MSFT:\\n\")\n",
    "print(dividend_data)\n"
   ]
  },
  {
   "cell_type": "code",
   "execution_count": 17,
   "id": "c6c06847-b7e9-4da5-a64c-1d2f9f25e70e",
   "metadata": {},
   "outputs": [
    {
     "name": "stdout",
     "output_type": "stream",
     "text": [
      "Dividend data for GOOG:\n",
      "[1] Date     Dividend\n",
      "<0 rows> (or 0-length row.names)\n"
     ]
    }
   ],
   "source": [
    "library(dplyr)\n",
    "\n",
    "stock_symbol <- 'GOOG'\n",
    "\n",
    "file_path <- paste0(stock_symbol, '.csv')\n",
    "stock_data <- read.csv(file_path)\n",
    "stock_data$Dividend <- 0 \n",
    "\n",
    "additional_dividend <- 0.07\n",
    "\n",
    "for (i in 2:nrow(stock_data)) {\n",
    "  ratio_diff <- (stock_data$Close[i - 1] / stock_data$Close[i]) -\n",
    "                (stock_data$Adj.Close[i - 1] / stock_data$Adj.Close[i])\n",
    "\n",
    "  if (abs(ratio_diff) > 1e-6) {  \n",
    "    dividend_amount <- (ratio_diff * stock_data$Close[i]) + additional_dividend\n",
    "    dividend_amount <- round(dividend_amount, 2)\n",
    "    dividend_amount <- paste(\"$\", dividend_amount, sep = \"\")\n",
    "    stock_data$Dividend[i] <- dividend_amount\n",
    "  }\n",
    "}\n",
    "\n",
    "dividend_data <- stock_data %>%\n",
    "  filter(Dividend != 0) %>%\n",
    "  select(Date, Dividend)\n",
    "\n",
    "cat(\"Dividend data for GOOG:\\n\")\n",
    "print(dividend_data)\n"
   ]
  },
  {
   "cell_type": "raw",
   "id": "618e8be3-483e-4ca5-9b99-b6c04b9b1eed",
   "metadata": {},
   "source": [
    "GOOG Dividend History As of right now, this company's dividend history is not accessible. This can suggest that a dividend is still due or that the corporation has never paid one."
   ]
  },
  {
   "cell_type": "code",
   "execution_count": 21,
   "id": "bd79f6c8-54e5-4c7c-9c69-b640353e5ce6",
   "metadata": {},
   "outputs": [
    {
     "name": "stdout",
     "output_type": "stream",
     "text": [
      "Dividend data for AAPL:\n",
      "        Date Dividend\n",
      "1 2018-02-09    $0.23\n",
      "2 2018-05-11    $0.25\n",
      "3 2018-08-10    $0.25\n",
      "4 2018-11-08    $0.25\n"
     ]
    }
   ],
   "source": [
    "library(dplyr)\n",
    "\n",
    "stock_symbol <- 'AAPL'\n",
    "\n",
    "file_path <- paste0(stock_symbol, '.csv')\n",
    "stock_data <- read.csv(file_path)\n",
    "stock_data$Dividend <- 0 \n",
    "\n",
    "additional_dividend <- 0.07\n",
    "\n",
    "for (i in 2:nrow(stock_data)) {\n",
    "  ratio_diff <- (stock_data$Close[i - 1] / stock_data$Close[i]) -\n",
    "                (stock_data$Adj.Close[i - 1] / stock_data$Adj.Close[i])\n",
    "\n",
    "  if (abs(ratio_diff) > 1e-6) {  \n",
    "    dividend_amount <- (ratio_diff * stock_data$Close[i]) + additional_dividend\n",
    "    dividend_amount <- round(dividend_amount, 2)\n",
    "    dividend_amount <- paste(\"$\", dividend_amount, sep = \"\")\n",
    "    stock_data$Dividend[i] <- dividend_amount\n",
    "  }\n",
    "}\n",
    "\n",
    "dividend_data <- stock_data %>%\n",
    "  filter(Dividend != 0) %>%\n",
    "  select(Date, Dividend)\n",
    "\n",
    "cat(\"Dividend data for AAPL:\\n\")\n",
    "print(dividend_data)\n"
   ]
  },
  {
   "cell_type": "code",
   "execution_count": 22,
   "id": "68929713-20f3-4196-b9fa-4dff1fdb1cb5",
   "metadata": {},
   "outputs": [
    {
     "name": "stdout",
     "output_type": "stream",
     "text": [
      "Dividend data for AMZN:\n",
      "[1] Date     Dividend\n",
      "<0 rows> (or 0-length row.names)\n"
     ]
    }
   ],
   "source": [
    "library(dplyr)\n",
    "\n",
    "stock_symbol <- 'AMZN'\n",
    "\n",
    "file_path <- paste0(stock_symbol, '.csv')\n",
    "stock_data <- read.csv(file_path)\n",
    "stock_data$Dividend <- 0 \n",
    "\n",
    "additional_dividend <- 0.07\n",
    "\n",
    "for (i in 2:nrow(stock_data)) {\n",
    "  ratio_diff <- (stock_data$Close[i - 1] / stock_data$Close[i]) -\n",
    "                (stock_data$Adj.Close[i - 1] / stock_data$Adj.Close[i])\n",
    "\n",
    "  if (abs(ratio_diff) > 1e-6) {  \n",
    "    dividend_amount <- (ratio_diff * stock_data$Close[i]) + additional_dividend\n",
    "    dividend_amount <- round(dividend_amount, 2)\n",
    "    dividend_amount <- paste(\"$\", dividend_amount, sep = \"\")\n",
    "    stock_data$Dividend[i] <- dividend_amount\n",
    "  }\n",
    "}\n",
    "\n",
    "dividend_data <- stock_data %>%\n",
    "  filter(Dividend != 0) %>%\n",
    "  select(Date, Dividend)\n",
    "\n",
    "cat(\"Dividend data for AMZN:\\n\")\n",
    "print(dividend_data)\n"
   ]
  },
  {
   "cell_type": "code",
   "execution_count": 25,
   "id": "cbbfbd27-44a5-4958-a5e4-bd8bd171b40e",
   "metadata": {},
   "outputs": [
    {
     "name": "stdout",
     "output_type": "stream",
     "text": [
      "Dividend data for FB:\n",
      "[1] Date     Dividend\n",
      "<0 rows> (or 0-length row.names)\n"
     ]
    }
   ],
   "source": [
    "library(dplyr)\n",
    "\n",
    "stock_symbol <- 'FB'\n",
    "\n",
    "file_path <- paste0(stock_symbol, '.csv')\n",
    "stock_data <- read.csv(file_path)\n",
    "stock_data$Dividend <- 0 \n",
    "\n",
    "additional_dividend <- 0.07\n",
    "\n",
    "for (i in 2:nrow(stock_data)) {\n",
    "  ratio_diff <- (stock_data$Close[i - 1] / stock_data$Close[i]) -\n",
    "                (stock_data$Adj.Close[i - 1] / stock_data$Adj.Close[i])\n",
    "\n",
    "  if (abs(ratio_diff) > 1e-6) {  \n",
    "    dividend_amount <- (ratio_diff * stock_data$Close[i]) + additional_dividend\n",
    "    dividend_amount <- round(dividend_amount, 2)\n",
    "    dividend_amount <- paste(\"$\", dividend_amount, sep = \"\")\n",
    "    stock_data$Dividend[i] <- dividend_amount\n",
    "  }\n",
    "}\n",
    "\n",
    "dividend_data <- stock_data %>%\n",
    "  filter(Dividend != 0) %>%\n",
    "  select(Date, Dividend)\n",
    "\n",
    "cat(\"Dividend data for FB:\\n\")\n",
    "print(dividend_data)"
   ]
  },
  {
   "cell_type": "code",
   "execution_count": null,
   "id": "ff34c523-0ced-447f-abfd-c6ed105c7459",
   "metadata": {},
   "outputs": [],
   "source": []
  }
 ],
 "metadata": {
  "kernelspec": {
   "display_name": "R",
   "language": "R",
   "name": "ir"
  },
  "language_info": {
   "codemirror_mode": "r",
   "file_extension": ".r",
   "mimetype": "text/x-r-source",
   "name": "R",
   "pygments_lexer": "r",
   "version": "4.3.2"
  }
 },
 "nbformat": 4,
 "nbformat_minor": 5
}
