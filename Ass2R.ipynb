{
 "cells": [
  {
   "cell_type": "markdown",
   "id": "1eab8502-49f6-4667-b116-4e08687257f7",
   "metadata": {},
   "source": [
    "## Problem 1\n",
    "\n",
    "Filtering Prime Numbers: write R code to return a vector of prime numbers within range\n",
    "from 0 to 1000\n",
    "https://www.youtube.com/watch?v=ej_HfaFsBgY&ab_channel=Examrace\n",
    "The sieve works by marking the composite numbers- filtering them out. What is left on\n",
    "top are the prime numbers.\n",
    "Steps:\n",
    "* A prime number has only two factors: 1 and itself. A composite number has more\n",
    "than two factors. The number 1 is neither prime nor composite – because it has only\n",
    "one factor (1)- so we remove 1\n",
    "* Now we move on to number 2. We know that any of the multiples of 2 except 2\n",
    "cannot be prime- because one of their factors is 2 (in addition to 1 and itself). So we\n",
    "move through multiples of 2 and mark them as composites.\n",
    "* Now we move to number 3- If 3 was a factor of any of the numbers seen so far- it\n",
    "would have been cancelled. But it is not so the only factors of 3 are 3 and 1- and hence\n",
    "it is prime. Therefore if we reach any number and it has not been cancelled it has to be\n",
    "prime. So we mark three as prime. We move through 3 and cancel all its multiples as\n",
    "they cannot be prime.\n",
    "* Lets look at number 4. It has been marked as composite because it had 2 as factor.\n",
    "But what about its multiples? We don’t have to consider its multiples because they\n",
    "would have been cancelled already as they would have been multiples of factors of 4.\n",
    "* Now we look at 5. Since it has not been cancelled we mark it prime and then mark all\n",
    "its multiples as composites.\n",
    "We only need to do this process till sqrt(1000). Why?"
   ]
  },
  {
   "cell_type": "code",
   "execution_count": 8,
   "id": "3215fd11-02e0-4c75-8ef9-8d200afa7de4",
   "metadata": {},
   "outputs": [
    {
     "name": "stdout",
     "output_type": "stream",
     "text": [
      "  [1]   2   3   5   7  11  13  17  19  23  29  31  37  41  43  47  53  59  61\n",
      " [19]  67  71  73  79  83  89  97 101 103 107 109 113 127 131 137 139 149 151\n",
      " [37] 157 163 167 173 179 181 191 193 197 199 211 223 227 229 233 239 241 251\n",
      " [55] 257 263 269 271 277 281 283 293 307 311 313 317 331 337 347 349 353 359\n",
      " [73] 367 373 379 383 389 397 401 409 419 421 431 433 439 443 449 457 461 463\n",
      " [91] 467 479 487 491 499 503 509 521 523 541 547 557 563 569 571 577 587 593\n",
      "[109] 599 601 607 613 617 619 631 641 643 647 653 659 661 673 677 683 691 701\n",
      "[127] 709 719 727 733 739 743 751 757 761 769 773 787 797 809 811 821 823 827\n",
      "[145] 829 839 853 857 859 863 877 881 883 887 907 911 919 929 937 941 947 953\n",
      "[163] 967 971 977 983 991 997\n"
     ]
    }
   ],
   "source": [
    "# Initialize a sequence of numbers from 0 to 1000\n",
    "nums <- 0:1000\n",
    "\n",
    "# Create an array to store prime numbers, initially set to the same values as nums\n",
    "primes <- nums \n",
    "\n",
    "# Exclude the first two elements (0 and 1) as they are not prime\n",
    "primes <- primes[-c(1,2)]\n",
    "\n",
    "# Implement the Sieve of Eratosthenes algorithm to find prime numbers\n",
    "for(i in seq_along(primes)) {\n",
    "\n",
    "  # Determine the starting point for marking multiples of the current prime\n",
    "  start <- i + primes[i]\n",
    "  \n",
    "  # Check if the starting point is within the array bounds and the current number is positive\n",
    "  if(start <= length(primes) && primes[i] > 0) {\n",
    "  \n",
    "    # Calculate the step size to mark multiples\n",
    "    by <- abs(primes[i])\n",
    "    \n",
    "    # Mark multiples of the current prime as 0\n",
    "    primes[seq(start, length(primes), by)] <- 0\n",
    "\n",
    "  }\n",
    "  \n",
    "}\n",
    "\n",
    "# Extract the remaining non-zero values as the prime numbers\n",
    "primes <- primes[primes > 0]\n",
    "\n",
    "# Print the resulting prime numbers\n",
    "print(primes)\n"
   ]
  },
  {
   "cell_type": "markdown",
   "id": "9a75a86d-67d4-42c6-b759-5e4a9f95a98e",
   "metadata": {},
   "source": [
    "When applying the Sieve of Eratosthenes algorithm to efficiently identify prime numbers, it is crucial to grasp the rationale behind limiting the sieving process to numbers up to the square root of the given range, denoted as √1000 in this instance.\n",
    "\n",
    "Fundamentally, composite numbers (non-prime) are composed of prime factors. For any composite number 'n,' at least one of its prime factors, let's call it 'p,' will always be such that 'p' is less than or equal to √n. If there were two prime factors greater than √n, their product would exceed 'n,' which is logically impossible. Hence, to ascertain the primality of a number, it suffices to examine potential factors up to √n.\n",
    "\n",
    "When we embark on the process of marking multiples of a prime number 'p,' we commence with the square of 'p' (p^2). This choice stems from the fact that any smaller multiple of 'p' (e.g., 2p, 3p, etc.) would have already been marked as a multiple of a smaller prime during previous iterations. For instance, when marking multiples of 5, we start with 5^2 = 25 since any smaller multiples (5, 10, 15, 20) have already been identified as multiples of 2 or 3.\n",
    "\n",
    "As we progress through the list of prime numbers, we consistently mark multiples of primes as composites. Crucially, the multiples we designate as composites will always be less than or equal to the square of the prime number currently under consideration. This ensures effective identification and elimination of all non-prime numbers up to the square root of the given range.\n",
    "\n",
    "By completing the sieve up to √n, any remaining unmarked numbers are guaranteed to be prime. These survivors have withstood the elimination process, indicating that they have no smaller prime factors. Consequently, these unmarked numbers represent prime numbers within the specified range.\n",
    "\n",
    "In the provided R code for finding prime numbers up to 1000 using the Sieve of Eratosthenes, this optimized approach significantly reduces computational complexity and time by efficiently sieving out composites while concentrating on numbers up to the square root of 1000, approximately 31.6. Beyond this threshold, any unmarked numbers are, by definition, prime numbers."
   ]
  },
  {
   "cell_type": "markdown",
   "id": "5ed2b067-3ccb-4ad9-bec4-409babd1f0da",
   "metadata": {},
   "source": [
    "## Problem 2\n",
    "\n",
    "Compute pi by Gregory series.\n",
    "let n = 100\n",
    "• Use loop\n",
    "• Challenge: write one line R by using vectorization"
   ]
  },
  {
   "cell_type": "code",
   "execution_count": 2,
   "id": "48a3b210-6b9e-407b-bf31-18e7f6c99c8b",
   "metadata": {},
   "outputs": [
    {
     "name": "stdout",
     "output_type": "stream",
     "text": [
      "[1] 3.131593\n"
     ]
    }
   ],
   "source": [
    "# Calculate an approximation of π using the Leibniz formula\n",
    "pi_approximation <- 4 * sum((-1) ^ seq_len(100) / (2 * seq_len(100) - 1))\n",
    "\n",
    "# Display the calculated approximation of π\n",
    "print(pi_approximation * -1)\n"
   ]
  },
  {
   "cell_type": "markdown",
   "id": "a318d4a5-6008-4019-a0bb-94ea0113f5c9",
   "metadata": {},
   "source": [
    "## Problem 3\n",
    "\n",
    "\n",
    "Stock Volume Analysis\n",
    "• Download IBM historical daily data of the entire 2018 from Yahoo.\n",
    "• Find the \"Download Data\" link to download the csv file to your local\n",
    "disk. https://finance.yahoo.com/quote/IBM/history?period1=1514782800&period2\n",
    "=1546232400&interval=1d&filter=history&frequency=1d\n",
    "• Load csv file into a data frame\n",
    "• Return all rows where the Close is greater than Open (bull market)\n",
    "• Return all rows where the Close is less than Open (bear market)\n",
    "• For the above two subsets, compute the average Volume for each.\n",
    "• In which market condition is the average Volume higher?\n"
   ]
  },
  {
   "cell_type": "code",
   "execution_count": 4,
   "id": "b5fb0377-1313-4c80-b93b-9c3dcb526618",
   "metadata": {},
   "outputs": [
    {
     "name": "stderr",
     "output_type": "stream",
     "text": [
      "also installing the dependencies ‘bit’, ‘prettyunits’, ‘pkgconfig’, ‘magrittr’, ‘bit64’, ‘tidyselect’, ‘withr’, ‘progress’, ‘clipr’, ‘hms’, ‘R6’, ‘tibble’, ‘vroom’, ‘cpp11’, ‘tzdb’\n",
      "\n",
      "\n"
     ]
    },
    {
     "name": "stdout",
     "output_type": "stream",
     "text": [
      "\n",
      "The downloaded binary packages are in\n",
      "\t/var/folders/4v/jf_nsbc91mn5_gzbh89ftbp80000gn/T//RtmpRM3HKa/downloaded_packages\n"
     ]
    }
   ],
   "source": [
    "install.packages(\"readr\")\n",
    "\n",
    "#Load required libraries\n",
    "library(readr)"
   ]
  },
  {
   "cell_type": "code",
   "execution_count": 5,
   "id": "ade90c6d-d4cd-4766-adb4-6d7b139677d0",
   "metadata": {},
   "outputs": [],
   "source": [
    "#Download the CSV file into a DataFrame\n",
    "data_url = \"https://query1.finance.yahoo.com/v7/finance/download/IBM?period1=1514782800&period2=1546232400&interval=1d&events=history\"\n",
    "df = read.csv(data_url)"
   ]
  },
  {
   "cell_type": "code",
   "execution_count": 6,
   "id": "b69615b7-7040-4f98-b6c4-4613faacf586",
   "metadata": {},
   "outputs": [
    {
     "name": "stdout",
     "output_type": "stream",
     "text": [
      "[1] \"Average Volume in Bull Market:  5588665.83783784\"\n",
      "[1] \"Average Volume in Bear Market:  5817898.60583942\"\n",
      "[1] \"Overall Market Type:  Bear Market\"\n"
     ]
    }
   ],
   "source": [
    "# Separate data into bull and bear markets based on closing and opening prices\n",
    "bull_market_data <- subset(df, Close > Open)\n",
    "bear_market_data <- subset(df, Close < Open)\n",
    "\n",
    "# Calculate the average volume for bull and bear markets\n",
    "average_volume_bull_market <- mean(bull_market_data$Volume)\n",
    "average_volume_bear_market <- mean(bear_market_data$Volume)\n",
    "\n",
    "# Display the computed averages and determine market type\n",
    "print(paste(\"Average Volume in Bull Market: \", average_volume_bull_market))\n",
    "print(paste(\"Average Volume in Bear Market: \", average_volume_bear_market))\n",
    "\n",
    "# Determine and display the prevailing market type\n",
    "market_type <- ifelse(average_volume_bull_market > average_volume_bear_market, \"Bull Market\", \"Bear Market\")\n",
    "print(paste(\"Overall Market Type: \", market_type))"
   ]
  }
 ],
 "metadata": {
  "kernelspec": {
   "display_name": "R",
   "language": "R",
   "name": "ir"
  },
  "language_info": {
   "codemirror_mode": "r",
   "file_extension": ".r",
   "mimetype": "text/x-r-source",
   "name": "R",
   "pygments_lexer": "r",
   "version": "4.3.2"
  }
 },
 "nbformat": 4,
 "nbformat_minor": 5
}
